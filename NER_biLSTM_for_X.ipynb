{
 "cells": [
  {
   "cell_type": "code",
   "execution_count": 1,
   "metadata": {},
   "outputs": [],
   "source": [
    "import matplotlib.pyplot as plt\n",
    "%matplotlib inline \n",
    "\n",
    "import pandas as pd\n",
    "import numpy as np\n",
    "import os\n",
    "import csv"
   ]
  },
  {
   "cell_type": "code",
   "execution_count": 2,
   "metadata": {},
   "outputs": [
    {
     "name": "stderr",
     "output_type": "stream",
     "text": [
      "Using TensorFlow backend.\n"
     ]
    }
   ],
   "source": [
    "from keras.models import Model\n",
    "from keras.layers import Dense, Dropout, Embedding, LSTM, Input, Bidirectional, TimeDistributed\n",
    "\n",
    "from keras.utils import to_categorical\n",
    "from keras.preprocessing.sequence import pad_sequences\n",
    "\n",
    "from sklearn.model_selection import train_test_split\n",
    "from keras.callbacks import EarlyStopping, ModelCheckpoint\n",
    "from keras.models import load_model\n"
   ]
  },
  {
   "cell_type": "code",
   "execution_count": 3,
   "metadata": {},
   "outputs": [],
   "source": [
    "from seqeval.metrics import precision_score, recall_score, f1_score, classification_report"
   ]
  },
  {
   "cell_type": "code",
   "execution_count": 4,
   "metadata": {},
   "outputs": [],
   "source": [
    "def read_preprocess_dataset(path):\n",
    "    with open(path) as f:\n",
    "        reader = csv.reader(f, delimiter=\"\\t\")\n",
    "        d = list(reader)\n",
    "\n",
    "    # find sentence breaks in txt file\n",
    "    seperator_ind = []\n",
    "\n",
    "    seperator_ind.append(-1)\n",
    "\n",
    "    for idx,elem in enumerate(d):\n",
    "        if len(elem) < 2:\n",
    "            seperator_ind.append(idx)\n",
    "        else:\n",
    "            continue\n",
    "    \n",
    "    # create dataset which has 2 columns; sentences with word order, their corresponding tags\n",
    "    sentences = []\n",
    "    tags  = []\n",
    "\n",
    "\n",
    "    for i in range(len(seperator_ind)-1):\n",
    "        start_idx = seperator_ind[i]+1\n",
    "        end_idx = seperator_ind[i+1]\n",
    "\n",
    "        single_sentence = []\n",
    "        single_sentence_tags = []\n",
    "\n",
    "        # read word within start and end indices\n",
    "        for j in range(start_idx,end_idx,1):\n",
    "            single_sentence.append(d[j][1])\n",
    "            single_sentence_tags.append(d[j][0])\n",
    "\n",
    "        sentences.append(single_sentence)\n",
    "        tags.append(single_sentence_tags)\n",
    "        \n",
    "    # initialize list of lists   \n",
    "    data = [sentences,tags]\n",
    "\n",
    "    # Create the pandas DataFrame \n",
    "    dataset = pd.DataFrame(data) \n",
    "    \n",
    "    # transposed since i used to work with sentence-tag with row by row\n",
    "    dataset = dataset.T\n",
    "    \n",
    "    print(\"Shape of dataset:\", dataset.shape)\n",
    "    print(\"Head of dataset:\",dataset.head())\n",
    "    \n",
    "    print(\"Sample element words:\",dataset.iloc[1547][0])\n",
    "    print(\"Sample element tags:\",dataset.iloc[1547][1])\n",
    "    \n",
    "    return dataset"
   ]
  },
  {
   "cell_type": "code",
   "execution_count": 5,
   "metadata": {},
   "outputs": [
    {
     "name": "stdout",
     "output_type": "stream",
     "text": [
      "Shape of dataset: (9775, 2)\n",
      "Head of dataset:                                                    0  \\\n",
      "0                [what, movies, star, bruce, willis]   \n",
      "1  [show, me, films, with, drew, barrymore, from,...   \n",
      "2  [what, movies, starred, both, al, pacino, and,...   \n",
      "3  [find, me, all, of, the, movies, that, starred...   \n",
      "4  [find, me, a, movie, with, a, quote, about, ba...   \n",
      "\n",
      "                                                   1  \n",
      "0                        [O, O, O, B-ACTOR, I-ACTOR]  \n",
      "1       [O, O, O, O, B-ACTOR, I-ACTOR, O, O, B-YEAR]  \n",
      "2  [O, O, O, O, B-ACTOR, I-ACTOR, O, B-ACTOR, I-A...  \n",
      "3  [O, O, O, O, O, O, O, O, B-ACTOR, I-ACTOR, O, ...  \n",
      "4                  [O, O, O, O, O, O, O, O, O, O, O]  \n",
      "Sample element words: ['what', 'movie', 'featured', 'the', 'quote', 'i', 'see', 'dead', 'people']\n",
      "Sample element tags: ['O', 'O', 'O', 'O', 'O', 'O', 'O', 'O', 'O']\n"
     ]
    }
   ],
   "source": [
    "dataset = read_preprocess_dataset(\"train.txt\")"
   ]
  },
  {
   "cell_type": "code",
   "execution_count": 6,
   "metadata": {},
   "outputs": [],
   "source": [
    "def get_unique_words(dataset):\n",
    "    # unique words\n",
    "    words = set()\n",
    "    tags = set()\n",
    "\n",
    "\n",
    "    [words.add(elem) for idx,d_elem in dataset.iterrows() for elem in d_elem[0] ];\n",
    "    words.add(\"ENDPAD\")\n",
    "    words = list(words)\n",
    "\n",
    "    [tags.add(elem) for idx,d_elem in dataset.iterrows() for elem in d_elem[1] ];\n",
    "    tags.add(np.nan)\n",
    "    tags = list(tags)\n",
    "    \n",
    "    return words,tags"
   ]
  },
  {
   "cell_type": "code",
   "execution_count": 7,
   "metadata": {
    "scrolled": true
   },
   "outputs": [
    {
     "data": {
      "text/plain": [
       "[nan,\n",
       " 'B-ACTOR',\n",
       " 'I-TRAILER',\n",
       " 'O',\n",
       " 'I-SONG',\n",
       " 'I-REVIEW',\n",
       " 'I-YEAR',\n",
       " 'B-DIRECTOR',\n",
       " 'B-GENRE',\n",
       " 'B-CHARACTER',\n",
       " 'I-RATING',\n",
       " 'I-DIRECTOR',\n",
       " 'B-REVIEW',\n",
       " 'B-SONG',\n",
       " 'B-RATINGS_AVERAGE',\n",
       " 'B-TRAILER',\n",
       " 'I-PLOT',\n",
       " 'B-TITLE',\n",
       " 'I-GENRE',\n",
       " 'B-PLOT',\n",
       " 'B-RATING',\n",
       " 'I-ACTOR',\n",
       " 'I-CHARACTER',\n",
       " 'B-YEAR',\n",
       " 'I-TITLE',\n",
       " 'I-RATINGS_AVERAGE']"
      ]
     },
     "execution_count": 7,
     "metadata": {},
     "output_type": "execute_result"
    }
   ],
   "source": [
    "words, tags = get_unique_words(dataset)\n",
    "tags"
   ]
  },
  {
   "cell_type": "code",
   "execution_count": 8,
   "metadata": {},
   "outputs": [
    {
     "data": {
      "text/plain": [
       "6711"
      ]
     },
     "execution_count": 8,
     "metadata": {},
     "output_type": "execute_result"
    }
   ],
   "source": [
    "len(words)"
   ]
  },
  {
   "cell_type": "code",
   "execution_count": 9,
   "metadata": {},
   "outputs": [
    {
     "data": {
      "text/plain": [
       "True"
      ]
     },
     "execution_count": 9,
     "metadata": {},
     "output_type": "execute_result"
    }
   ],
   "source": [
    "\"ENDPAD\" in words"
   ]
  },
  {
   "cell_type": "code",
   "execution_count": 10,
   "metadata": {},
   "outputs": [],
   "source": [
    "def convert_str_to_numerical(dataset, words,tags):\n",
    "    word2idx = {words[i] : i for i in range(len(words))}\n",
    "    tag2idx = {tags[i] : i for i in range(len(tags))}\n",
    "    \n",
    "    # Convert sentence to numerical\n",
    "    X = [[word2idx[w] for w in d_elem[0]] for idx,d_elem in dataset.iterrows() ]\n",
    "    y = [[tag2idx[t] for t in d_elem[1]] for idx,d_elem in dataset.iterrows()]\n",
    "    \n",
    "    return word2idx, tag2idx, X, y"
   ]
  },
  {
   "cell_type": "code",
   "execution_count": 11,
   "metadata": {},
   "outputs": [],
   "source": [
    "def convert_str_to_numerical_test(dataset, word2idx, tag2idx):\n",
    "    # Convert sentence to numerical\n",
    "    X  =[]\n",
    "    \n",
    "    for idx,d_elem in dataset.iterrows():\n",
    "        seq = []\n",
    "        for w in d_elem[0]:\n",
    "            try:\n",
    "                num = word2idx[w]\n",
    "            except:\n",
    "                num = word2idx[\"ENDPAD\"]\n",
    "            finally:\n",
    "                seq.append(num)\n",
    "        X.append(seq)\n",
    "    \n",
    "    #X = [[word2idx[w] for w in d_elem[0]] for idx,d_elem in dataset.iterrows() ]\n",
    "    y = [[tag2idx[t] for t in d_elem[1]] for idx,d_elem in dataset.iterrows()]\n",
    "    \n",
    "    return X, y"
   ]
  },
  {
   "cell_type": "code",
   "execution_count": 12,
   "metadata": {},
   "outputs": [],
   "source": [
    "word2idx, tag2idx, X,y = convert_str_to_numerical(dataset, words,tags)"
   ]
  },
  {
   "cell_type": "code",
   "execution_count": 13,
   "metadata": {},
   "outputs": [
    {
     "data": {
      "text/plain": [
       "2835"
      ]
     },
     "execution_count": 13,
     "metadata": {},
     "output_type": "execute_result"
    }
   ],
   "source": [
    "word2idx[\"ENDPAD\"]"
   ]
  },
  {
   "cell_type": "code",
   "execution_count": 14,
   "metadata": {},
   "outputs": [
    {
     "data": {
      "text/plain": [
       "3"
      ]
     },
     "execution_count": 14,
     "metadata": {},
     "output_type": "execute_result"
    }
   ],
   "source": [
    "tag2idx[\"O\"]"
   ]
  },
  {
   "cell_type": "code",
   "execution_count": 15,
   "metadata": {
    "scrolled": true
   },
   "outputs": [
    {
     "data": {
      "text/plain": [
       "{nan: 0,\n",
       " 'B-ACTOR': 1,\n",
       " 'I-TRAILER': 2,\n",
       " 'O': 3,\n",
       " 'I-SONG': 4,\n",
       " 'I-REVIEW': 5,\n",
       " 'I-YEAR': 6,\n",
       " 'B-DIRECTOR': 7,\n",
       " 'B-GENRE': 8,\n",
       " 'B-CHARACTER': 9,\n",
       " 'I-RATING': 10,\n",
       " 'I-DIRECTOR': 11,\n",
       " 'B-REVIEW': 12,\n",
       " 'B-SONG': 13,\n",
       " 'B-RATINGS_AVERAGE': 14,\n",
       " 'B-TRAILER': 15,\n",
       " 'I-PLOT': 16,\n",
       " 'B-TITLE': 17,\n",
       " 'I-GENRE': 18,\n",
       " 'B-PLOT': 19,\n",
       " 'B-RATING': 20,\n",
       " 'I-ACTOR': 21,\n",
       " 'I-CHARACTER': 22,\n",
       " 'B-YEAR': 23,\n",
       " 'I-TITLE': 24,\n",
       " 'I-RATINGS_AVERAGE': 25}"
      ]
     },
     "execution_count": 15,
     "metadata": {},
     "output_type": "execute_result"
    }
   ],
   "source": [
    "tag2idx"
   ]
  },
  {
   "cell_type": "code",
   "execution_count": 16,
   "metadata": {},
   "outputs": [],
   "source": [
    "max_seq_length = 0\n",
    "for x in X:\n",
    "    if len(x) > max_seq_length:\n",
    "        max_seq_length = len(x)    "
   ]
  },
  {
   "cell_type": "code",
   "execution_count": 17,
   "metadata": {},
   "outputs": [
    {
     "data": {
      "text/plain": [
       "47"
      ]
     },
     "execution_count": 17,
     "metadata": {},
     "output_type": "execute_result"
    }
   ],
   "source": [
    "max_seq_length"
   ]
  },
  {
   "cell_type": "code",
   "execution_count": 18,
   "metadata": {},
   "outputs": [],
   "source": [
    "X = pad_sequences(maxlen=max_seq_length, sequences=X, padding='post', value=word2idx[\"ENDPAD\"])\n",
    "y = pad_sequences(maxlen=max_seq_length, sequences=y, padding='post', value=tag2idx[\"O\"])"
   ]
  },
  {
   "cell_type": "code",
   "execution_count": 19,
   "metadata": {},
   "outputs": [
    {
     "data": {
      "text/plain": [
       "(9775, 47)"
      ]
     },
     "execution_count": 19,
     "metadata": {},
     "output_type": "execute_result"
    }
   ],
   "source": [
    "X.shape"
   ]
  },
  {
   "cell_type": "code",
   "execution_count": 20,
   "metadata": {
    "scrolled": true
   },
   "outputs": [
    {
     "data": {
      "text/plain": [
       "(9775, 47)"
      ]
     },
     "execution_count": 20,
     "metadata": {},
     "output_type": "execute_result"
    }
   ],
   "source": [
    "y.shape"
   ]
  },
  {
   "cell_type": "code",
   "execution_count": 21,
   "metadata": {},
   "outputs": [
    {
     "data": {
      "text/plain": [
       "array([ 3,  3,  3,  1, 21,  3,  3,  3,  3,  3,  3,  3,  3,  3,  3,  3,  3,\n",
       "        3,  3,  3,  3,  3,  3,  3,  3,  3,  3,  3,  3,  3,  3,  3,  3,  3,\n",
       "        3,  3,  3,  3,  3,  3,  3,  3,  3,  3,  3,  3,  3])"
      ]
     },
     "execution_count": 21,
     "metadata": {},
     "output_type": "execute_result"
    }
   ],
   "source": [
    "y[0]"
   ]
  },
  {
   "cell_type": "code",
   "execution_count": 22,
   "metadata": {},
   "outputs": [],
   "source": [
    "# One-hot Encoding\n",
    "y = to_categorical(y, num_classes=len(tag2idx))"
   ]
  },
  {
   "cell_type": "code",
   "execution_count": 23,
   "metadata": {},
   "outputs": [
    {
     "data": {
      "text/plain": [
       "(9775, 47, 26)"
      ]
     },
     "execution_count": 23,
     "metadata": {},
     "output_type": "execute_result"
    }
   ],
   "source": [
    "y.shape"
   ]
  },
  {
   "cell_type": "code",
   "execution_count": 24,
   "metadata": {},
   "outputs": [],
   "source": [
    "# Early Stopping Callback\n",
    "callbacks = [EarlyStopping(monitor='val_loss', patience=2),\n",
    "             ModelCheckpoint(filepath='best_model_NER.h5', monitor='val_loss', save_best_only=True)]"
   ]
  },
  {
   "cell_type": "code",
   "execution_count": 25,
   "metadata": {},
   "outputs": [],
   "source": [
    "# Build Model\n",
    "from keras.models import Model\n",
    "from keras.layers import Dense, Dropout, Embedding, LSTM, Input\n",
    "\n",
    "input_node = Input(shape=(max_seq_length,))\n",
    "embedding = Embedding(input_dim=len(words), output_dim=100, input_length=max_seq_length)(input_node)\n",
    "rec_layer = Bidirectional(LSTM(50, return_sequences= True, recurrent_dropout=0.2))(embedding)\n",
    "output = TimeDistributed(Dense(len(tag2idx), activation=\"softmax\"))(rec_layer)\n",
    "\n",
    "NER = Model(input_node, output)"
   ]
  },
  {
   "cell_type": "code",
   "execution_count": 26,
   "metadata": {},
   "outputs": [],
   "source": [
    "NER.compile(optimizer=\"adam\", loss=\"categorical_crossentropy\", metrics=[\"accuracy\"])"
   ]
  },
  {
   "cell_type": "code",
   "execution_count": 27,
   "metadata": {},
   "outputs": [
    {
     "name": "stdout",
     "output_type": "stream",
     "text": [
      "Model: \"model_1\"\n",
      "_________________________________________________________________\n",
      "Layer (type)                 Output Shape              Param #   \n",
      "=================================================================\n",
      "input_1 (InputLayer)         (None, 47)                0         \n",
      "_________________________________________________________________\n",
      "embedding_1 (Embedding)      (None, 47, 100)           671100    \n",
      "_________________________________________________________________\n",
      "bidirectional_1 (Bidirection (None, 47, 100)           60400     \n",
      "_________________________________________________________________\n",
      "time_distributed_1 (TimeDist (None, 47, 26)            2626      \n",
      "=================================================================\n",
      "Total params: 734,126\n",
      "Trainable params: 734,126\n",
      "Non-trainable params: 0\n",
      "_________________________________________________________________\n"
     ]
    }
   ],
   "source": [
    "NER.summary()"
   ]
  },
  {
   "cell_type": "code",
   "execution_count": 28,
   "metadata": {},
   "outputs": [
    {
     "name": "stderr",
     "output_type": "stream",
     "text": [
      "C:\\Users\\dtecitak\\AppData\\Local\\Continuum\\anaconda3\\lib\\site-packages\\tensorflow_core\\python\\framework\\indexed_slices.py:424: UserWarning: Converting sparse IndexedSlices to a dense Tensor of unknown shape. This may consume a large amount of memory.\n",
      "  \"Converting sparse IndexedSlices to a dense Tensor of unknown shape. \"\n"
     ]
    },
    {
     "name": "stdout",
     "output_type": "stream",
     "text": [
      "Train on 6842 samples, validate on 2933 samples\n",
      "Epoch 1/20\n",
      "6842/6842 [==============================] - 10s 2ms/step - loss: 0.5957 - accuracy: 0.9125 - val_loss: 0.3582 - val_accuracy: 0.9082\n",
      "Epoch 2/20\n",
      "6842/6842 [==============================] - 11s 2ms/step - loss: 0.2689 - accuracy: 0.9298 - val_loss: 0.2400 - val_accuracy: 0.9400\n",
      "Epoch 3/20\n",
      "6842/6842 [==============================] - 10s 2ms/step - loss: 0.1883 - accuracy: 0.9549 - val_loss: 0.1491 - val_accuracy: 0.9607\n",
      "Epoch 4/20\n",
      "6842/6842 [==============================] - 10s 1ms/step - loss: 0.1252 - accuracy: 0.9706 - val_loss: 0.1005 - val_accuracy: 0.9761\n",
      "Epoch 5/20\n",
      "6842/6842 [==============================] - 10s 1ms/step - loss: 0.0915 - accuracy: 0.9779 - val_loss: 0.0844 - val_accuracy: 0.9784\n",
      "Epoch 6/20\n",
      "6842/6842 [==============================] - 10s 1ms/step - loss: 0.0740 - accuracy: 0.9817 - val_loss: 0.0749 - val_accuracy: 0.9791\n",
      "Epoch 7/20\n",
      "6842/6842 [==============================] - 10s 1ms/step - loss: 0.0623 - accuracy: 0.9842 - val_loss: 0.0727 - val_accuracy: 0.9800\n",
      "Epoch 8/20\n",
      "6842/6842 [==============================] - 10s 1ms/step - loss: 0.0543 - accuracy: 0.9861 - val_loss: 0.0725 - val_accuracy: 0.9801\n",
      "Epoch 9/20\n",
      "6842/6842 [==============================] - 10s 2ms/step - loss: 0.0481 - accuracy: 0.9875 - val_loss: 0.0700 - val_accuracy: 0.9807\n",
      "Epoch 10/20\n",
      "6842/6842 [==============================] - 10s 1ms/step - loss: 0.0434 - accuracy: 0.9886 - val_loss: 0.0705 - val_accuracy: 0.9807\n",
      "Epoch 11/20\n",
      "6842/6842 [==============================] - 10s 1ms/step - loss: 0.0395 - accuracy: 0.9896 - val_loss: 0.0701 - val_accuracy: 0.9807\n"
     ]
    }
   ],
   "source": [
    "history = NER.fit(X, np.array(y), batch_size=32, epochs=20, validation_split=0.3,callbacks=callbacks, verbose=1)"
   ]
  },
  {
   "cell_type": "code",
   "execution_count": 29,
   "metadata": {},
   "outputs": [
    {
     "name": "stdout",
     "output_type": "stream",
     "text": [
      "dict_keys(['val_loss', 'val_accuracy', 'loss', 'accuracy'])\n"
     ]
    }
   ],
   "source": [
    "print(history.history.keys())"
   ]
  },
  {
   "cell_type": "code",
   "execution_count": 30,
   "metadata": {},
   "outputs": [
    {
     "data": {
      "image/png": "[encoded data removed]",
      "text/plain": [
       "<Figure size 432x288 with 1 Axes>"
      ]
     },
     "metadata": {
      "needs_background": "light"
     },
     "output_type": "display_data"
    }
   ],
   "source": [
    "# Plot history: Categorical CrossEntropy(CCE)\n",
    "plt.plot(history.history['loss'], label='CCE (training data)')\n",
    "plt.plot(history.history['val_loss'], label='CCE (validation data)')\n",
    "\n",
    "plt.title('CCE for NER')\n",
    "plt.ylabel('CCE value')\n",
    "plt.xlabel('No. epoch')\n",
    "plt.legend(loc=\"upper left\")\n",
    "\n",
    "plt.show()"
   ]
  },
  {
   "cell_type": "code",
   "execution_count": 31,
   "metadata": {},
   "outputs": [
    {
     "data": {
      "image/png": "[encoded data removed]",
      "text/plain": [
       "<Figure size 432x288 with 1 Axes>"
      ]
     },
     "metadata": {
      "needs_background": "light"
     },
     "output_type": "display_data"
    }
   ],
   "source": [
    "# Plot history: Accuracy(CCE)\n",
    "plt.plot(history.history['accuracy'], label='ACC (training data)')\n",
    "plt.plot(history.history['val_accuracy'], label='ACC (validation data)')\n",
    "\n",
    "plt.title('ACC for NER')\n",
    "plt.ylabel('ACC value')\n",
    "plt.xlabel('No. epoch')\n",
    "plt.legend(loc=\"upper left\")\n",
    "\n",
    "plt.show()"
   ]
  },
  {
   "cell_type": "code",
   "execution_count": 32,
   "metadata": {},
   "outputs": [
    {
     "name": "stdout",
     "output_type": "stream",
     "text": [
      "Shape of dataset: (2443, 2)\n",
      "Head of dataset:                                                    0  \\\n",
      "0  [are, there, any, good, romantic, comedies, ou...   \n",
      "1      [show, me, a, movie, about, cars, that, talk]   \n",
      "2  [list, the, five, star, rated, movies, starrin...   \n",
      "3  [what, science, fiction, films, have, come, ou...   \n",
      "4  [did, the, same, director, make, all, of, the,...   \n",
      "\n",
      "                                                   1  \n",
      "0  [O, O, O, O, B-GENRE, I-GENRE, O, B-YEAR, I-YEAR]  \n",
      "1            [O, O, O, O, O, B-PLOT, I-PLOT, I-PLOT]  \n",
      "2  [O, O, B-RATINGS_AVERAGE, I-RATINGS_AVERAGE, O...  \n",
      "3          [O, B-GENRE, I-GENRE, O, O, O, O, B-YEAR]  \n",
      "4      [O, O, O, O, O, O, O, O, B-TITLE, I-TITLE, O]  \n",
      "Sample element words: ['is', 'there', 'an', 'r', 'rated', 'fantasy', 'directed', 'by', 'robert', 'taylor', 'that', 'is', 'liked', 'by', 'many']\n",
      "Sample element tags: ['O', 'O', 'O', 'B-RATING', 'O', 'B-GENRE', 'O', 'O', 'B-DIRECTOR', 'I-DIRECTOR', 'O', 'O', 'B-RATINGS_AVERAGE', 'I-RATINGS_AVERAGE', 'I-RATINGS_AVERAGE']\n"
     ]
    }
   ],
   "source": [
    "test_set = read_preprocess_dataset(\"test.txt\")"
   ]
  },
  {
   "cell_type": "code",
   "execution_count": 33,
   "metadata": {},
   "outputs": [],
   "source": [
    "words, tags = get_unique_words(test_set)"
   ]
  },
  {
   "cell_type": "code",
   "execution_count": 34,
   "metadata": {},
   "outputs": [],
   "source": [
    "X,y = convert_str_to_numerical_test(test_set, word2idx, tag2idx)"
   ]
  },
  {
   "cell_type": "code",
   "execution_count": 35,
   "metadata": {},
   "outputs": [],
   "source": [
    "#max_seq_lengthx_sequence_length  is same also for test set, since lstm is trained with it previously"
   ]
  },
  {
   "cell_type": "code",
   "execution_count": 36,
   "metadata": {},
   "outputs": [],
   "source": [
    "X = pad_sequences(maxlen=max_seq_length, sequences=X, padding='post', value=word2idx[\"ENDPAD\"])\n",
    "y = pad_sequences(maxlen=max_seq_length, sequences=y, padding='post', value=tag2idx[\"O\"])"
   ]
  },
  {
   "cell_type": "code",
   "execution_count": 37,
   "metadata": {},
   "outputs": [],
   "source": [
    "# One-hot Encoding\n",
    "y = to_categorical(y, num_classes=len(tag2idx))"
   ]
  },
  {
   "cell_type": "code",
   "execution_count": 38,
   "metadata": {},
   "outputs": [
    {
     "name": "stderr",
     "output_type": "stream",
     "text": [
      "C:\\Users\\dtecitak\\AppData\\Local\\Continuum\\anaconda3\\lib\\site-packages\\tensorflow_core\\python\\framework\\indexed_slices.py:424: UserWarning: Converting sparse IndexedSlices to a dense Tensor of unknown shape. This may consume a large amount of memory.\n",
      "  \"Converting sparse IndexedSlices to a dense Tensor of unknown shape. \"\n"
     ]
    }
   ],
   "source": [
    "# Load Best Model\n",
    "best_model = load_model(\"best_model_NER.h5\")"
   ]
  },
  {
   "cell_type": "code",
   "execution_count": 39,
   "metadata": {},
   "outputs": [
    {
     "name": "stdout",
     "output_type": "stream",
     "text": [
      "2443/2443 [==============================] - 1s 400us/step\n"
     ]
    }
   ],
   "source": [
    "score, acc = NER.evaluate(X,y)"
   ]
  },
  {
   "cell_type": "code",
   "execution_count": 40,
   "metadata": {},
   "outputs": [
    {
     "name": "stdout",
     "output_type": "stream",
     "text": [
      "Test Set Acc: 0.973767876625061\n"
     ]
    }
   ],
   "source": [
    "print(\"Test Set Acc:\",acc)"
   ]
  },
  {
   "cell_type": "code",
   "execution_count": 41,
   "metadata": {},
   "outputs": [],
   "source": [
    "def pred2label(pred):\n",
    "    out = []\n",
    "    for pred_i in pred:\n",
    "        out_i = []\n",
    "        for p in pred_i:\n",
    "            p_i = np.argmax(p)\n",
    "            out_i.append(idx2tag[p_i].replace(\"ENDPAD\", \"O\"))\n",
    "        out.append(out_i)\n",
    "    return out"
   ]
  },
  {
   "cell_type": "code",
   "execution_count": 42,
   "metadata": {},
   "outputs": [],
   "source": [
    "test_pred = NER.predict(X)"
   ]
  },
  {
   "cell_type": "code",
   "execution_count": 43,
   "metadata": {},
   "outputs": [],
   "source": [
    "idx2tag = dict(map(reversed, tag2idx.items()))"
   ]
  },
  {
   "cell_type": "code",
   "execution_count": 44,
   "metadata": {},
   "outputs": [],
   "source": [
    "pred_labels = pred2label(test_pred)\n",
    "test_labels = pred2label(y)"
   ]
  },
  {
   "cell_type": "code",
   "execution_count": 45,
   "metadata": {},
   "outputs": [
    {
     "name": "stdout",
     "output_type": "stream",
     "text": [
      "F1-score: 72.4%\n"
     ]
    }
   ],
   "source": [
    "print(\"F1-score: {:.1%}\".format(f1_score(test_labels, pred_labels)))"
   ]
  }
 ],
 "metadata": {
  "kernelspec": {
   "display_name": "Python 3",
   "language": "python",
   "name": "python3"
  },
  "language_info": {
   "codemirror_mode": {
    "name": "ipython",
    "version": 3
   },
   "file_extension": ".py",
   "mimetype": "text/x-python",
   "name": "python",
   "nbconvert_exporter": "python",
   "pygments_lexer": "ipython3",
   "version": "3.7.3"
  }
 },
 "nbformat": 4,
 "nbformat_minor": 2
}

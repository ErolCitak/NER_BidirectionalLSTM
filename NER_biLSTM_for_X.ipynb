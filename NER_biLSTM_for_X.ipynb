{
 "cells": [
  {
   "cell_type": "code",
   "execution_count": 1,
   "metadata": {},
   "outputs": [],
   "source": [
    "import matplotlib.pyplot as plt\n",
    "%matplotlib inline \n",
    "\n",
    "import pandas as pd\n",
    "import numpy as np\n",
    "import os\n",
    "import csv"
   ]
  },
  {
   "cell_type": "code",
   "execution_count": 91,
   "metadata": {},
   "outputs": [],
   "source": [
    "from keras.models import Model\n",
    "from keras.layers import Dense, Dropout, Embedding, LSTM, Input, Bidirectional, TimeDistributed\n",
    "\n",
    "from keras.utils import to_categorical\n",
    "from keras.preprocessing.sequence import pad_sequences\n",
    "\n",
    "from sklearn.model_selection import train_test_split\n",
    "from keras.callbacks import EarlyStopping, ModelCheckpoint\n",
    "from keras.models import load_model\n"
   ]
  },
  {
   "cell_type": "code",
   "execution_count": 3,
   "metadata": {},
   "outputs": [],
   "source": [
    "def read_preprocess_dataset(path):\n",
    "    with open(path) as f:\n",
    "        reader = csv.reader(f, delimiter=\"\\t\")\n",
    "        d = list(reader)\n",
    "\n",
    "    # find sentence breaks in txt file\n",
    "    seperator_ind = []\n",
    "\n",
    "    seperator_ind.append(-1)\n",
    "\n",
    "    for idx,elem in enumerate(d):\n",
    "        if len(elem) < 2:\n",
    "            seperator_ind.append(idx)\n",
    "        else:\n",
    "            continue\n",
    "    \n",
    "    # create dataset which has 2 columns; sentences with word order, their corresponding tags\n",
    "    sentences = []\n",
    "    tags  = []\n",
    "\n",
    "\n",
    "    for i in range(len(seperator_ind)-1):\n",
    "        start_idx = seperator_ind[i]+1\n",
    "        end_idx = seperator_ind[i+1]\n",
    "\n",
    "        single_sentence = []\n",
    "        single_sentence_tags = []\n",
    "\n",
    "        # read word within start and end indices\n",
    "        for j in range(start_idx,end_idx,1):\n",
    "            single_sentence.append(d[j][1])\n",
    "            single_sentence_tags.append(d[j][0])\n",
    "\n",
    "        sentences.append(single_sentence)\n",
    "        tags.append(single_sentence_tags)\n",
    "        \n",
    "    # initialize list of lists   \n",
    "    data = [sentences,tags]\n",
    "\n",
    "    # Create the pandas DataFrame \n",
    "    dataset = pd.DataFrame(data) \n",
    "    \n",
    "    # transposed since i used to work with sentence-tag with row by row\n",
    "    dataset = dataset.T\n",
    "    \n",
    "    print(\"Shape of dataset:\", dataset.shape)\n",
    "    print(\"Head of dataset:\",dataset.head())\n",
    "    \n",
    "    print(\"Sample element words:\",dataset.iloc[1547][0])\n",
    "    print(\"Sample element tags:\",dataset.iloc[1547][1])\n",
    "    \n",
    "    return dataset"
   ]
  },
  {
   "cell_type": "code",
   "execution_count": 4,
   "metadata": {},
   "outputs": [
    {
     "name": "stdout",
     "output_type": "stream",
     "text": [
      "Shape of dataset: (9775, 2)\n",
      "Head of dataset:                                                    0  \\\n",
      "0                [what, movies, star, bruce, willis]   \n",
      "1  [show, me, films, with, drew, barrymore, from,...   \n",
      "2  [what, movies, starred, both, al, pacino, and,...   \n",
      "3  [find, me, all, of, the, movies, that, starred...   \n",
      "4  [find, me, a, movie, with, a, quote, about, ba...   \n",
      "\n",
      "                                                   1  \n",
      "0                        [O, O, O, B-ACTOR, I-ACTOR]  \n",
      "1       [O, O, O, O, B-ACTOR, I-ACTOR, O, O, B-YEAR]  \n",
      "2  [O, O, O, O, B-ACTOR, I-ACTOR, O, B-ACTOR, I-A...  \n",
      "3  [O, O, O, O, O, O, O, O, B-ACTOR, I-ACTOR, O, ...  \n",
      "4                  [O, O, O, O, O, O, O, O, O, O, O]  \n",
      "Sample element words: ['what', 'movie', 'featured', 'the', 'quote', 'i', 'see', 'dead', 'people']\n",
      "Sample element tags: ['O', 'O', 'O', 'O', 'O', 'O', 'O', 'O', 'O']\n"
     ]
    }
   ],
   "source": [
    "dataset = read_preprocess_dataset(\"train.txt\")"
   ]
  },
  {
   "cell_type": "code",
   "execution_count": 33,
   "metadata": {},
   "outputs": [],
   "source": [
    "def get_unique_words(dataset):\n",
    "    # unique words\n",
    "    words = set()\n",
    "    tags = set()\n",
    "\n",
    "\n",
    "    [words.add(elem) for idx,d_elem in dataset.iterrows() for elem in d_elem[0] ];\n",
    "    words.add(\"ENDPAD\")\n",
    "    words = list(words)\n",
    "\n",
    "    [tags.add(elem) for idx,d_elem in dataset.iterrows() for elem in d_elem[1] ];\n",
    "    tags.add(np.nan)\n",
    "    tags = list(tags)\n",
    "    \n",
    "    return words,tags"
   ]
  },
  {
   "cell_type": "code",
   "execution_count": 34,
   "metadata": {
    "scrolled": true
   },
   "outputs": [
    {
     "data": {
      "text/plain": [
       "['B-GENRE',\n",
       " nan,\n",
       " 'B-DIRECTOR',\n",
       " 'B-RATINGS_AVERAGE',\n",
       " 'B-TITLE',\n",
       " 'I-ACTOR',\n",
       " 'I-RATINGS_AVERAGE',\n",
       " 'I-CHARACTER',\n",
       " 'I-DIRECTOR',\n",
       " 'B-CHARACTER',\n",
       " 'I-REVIEW',\n",
       " 'I-SONG',\n",
       " 'B-TRAILER',\n",
       " 'B-RATING',\n",
       " 'I-TRAILER',\n",
       " 'I-PLOT',\n",
       " 'B-SONG',\n",
       " 'I-YEAR',\n",
       " 'B-ACTOR',\n",
       " 'B-YEAR',\n",
       " 'I-RATING',\n",
       " 'B-PLOT',\n",
       " 'O',\n",
       " 'I-TITLE',\n",
       " 'B-REVIEW',\n",
       " 'I-GENRE']"
      ]
     },
     "execution_count": 34,
     "metadata": {},
     "output_type": "execute_result"
    }
   ],
   "source": [
    "words, tags = get_unique_words(dataset)\n",
    "tags"
   ]
  },
  {
   "cell_type": "code",
   "execution_count": 35,
   "metadata": {},
   "outputs": [
    {
     "data": {
      "text/plain": [
       "6711"
      ]
     },
     "execution_count": 35,
     "metadata": {},
     "output_type": "execute_result"
    }
   ],
   "source": [
    "len(words)"
   ]
  },
  {
   "cell_type": "code",
   "execution_count": 36,
   "metadata": {},
   "outputs": [
    {
     "data": {
      "text/plain": [
       "True"
      ]
     },
     "execution_count": 36,
     "metadata": {},
     "output_type": "execute_result"
    }
   ],
   "source": [
    "\"ENDPAD\" in words"
   ]
  },
  {
   "cell_type": "code",
   "execution_count": 43,
   "metadata": {},
   "outputs": [],
   "source": [
    "def convert_str_to_numerical(dataset, words,tags):\n",
    "    word2idx = {words[i] : i for i in range(len(words))}\n",
    "    tag2idx = {tags[i] : i for i in range(len(tags))}\n",
    "    \n",
    "    # Convert sentence to numerical\n",
    "    X = [[word2idx[w] for w in d_elem[0]] for idx,d_elem in dataset.iterrows() ]\n",
    "    y = [[tag2idx[t] for t in d_elem[1]] for idx,d_elem in dataset.iterrows()]\n",
    "    \n",
    "    return word2idx, tag2idx, X, y"
   ]
  },
  {
   "cell_type": "code",
   "execution_count": 44,
   "metadata": {},
   "outputs": [],
   "source": [
    "word2idx, tag2idx, X,y = convert_str_to_numerical(dataset, words,tags)"
   ]
  },
  {
   "cell_type": "code",
   "execution_count": 45,
   "metadata": {},
   "outputs": [
    {
     "data": {
      "text/plain": [
       "689"
      ]
     },
     "execution_count": 45,
     "metadata": {},
     "output_type": "execute_result"
    }
   ],
   "source": [
    "word2idx[\"ENDPAD\"]"
   ]
  },
  {
   "cell_type": "code",
   "execution_count": 46,
   "metadata": {},
   "outputs": [
    {
     "data": {
      "text/plain": [
       "22"
      ]
     },
     "execution_count": 46,
     "metadata": {},
     "output_type": "execute_result"
    }
   ],
   "source": [
    "tag2idx[\"O\"]"
   ]
  },
  {
   "cell_type": "code",
   "execution_count": 47,
   "metadata": {
    "scrolled": true
   },
   "outputs": [
    {
     "data": {
      "text/plain": [
       "{'B-GENRE': 0,\n",
       " nan: 1,\n",
       " 'B-DIRECTOR': 2,\n",
       " 'B-RATINGS_AVERAGE': 3,\n",
       " 'B-TITLE': 4,\n",
       " 'I-ACTOR': 5,\n",
       " 'I-RATINGS_AVERAGE': 6,\n",
       " 'I-CHARACTER': 7,\n",
       " 'I-DIRECTOR': 8,\n",
       " 'B-CHARACTER': 9,\n",
       " 'I-REVIEW': 10,\n",
       " 'I-SONG': 11,\n",
       " 'B-TRAILER': 12,\n",
       " 'B-RATING': 13,\n",
       " 'I-TRAILER': 14,\n",
       " 'I-PLOT': 15,\n",
       " 'B-SONG': 16,\n",
       " 'I-YEAR': 17,\n",
       " 'B-ACTOR': 18,\n",
       " 'B-YEAR': 19,\n",
       " 'I-RATING': 20,\n",
       " 'B-PLOT': 21,\n",
       " 'O': 22,\n",
       " 'I-TITLE': 23,\n",
       " 'B-REVIEW': 24,\n",
       " 'I-GENRE': 25}"
      ]
     },
     "execution_count": 47,
     "metadata": {},
     "output_type": "execute_result"
    }
   ],
   "source": [
    "tag2idx"
   ]
  },
  {
   "cell_type": "code",
   "execution_count": 48,
   "metadata": {},
   "outputs": [],
   "source": [
    "max_seq_length = 0\n",
    "for x in X:\n",
    "    if len(x) > max_seq_length:\n",
    "        max_seq_length = len(x)    "
   ]
  },
  {
   "cell_type": "code",
   "execution_count": 49,
   "metadata": {},
   "outputs": [
    {
     "data": {
      "text/plain": [
       "47"
      ]
     },
     "execution_count": 49,
     "metadata": {},
     "output_type": "execute_result"
    }
   ],
   "source": [
    "max_seq_length"
   ]
  },
  {
   "cell_type": "code",
   "execution_count": 50,
   "metadata": {},
   "outputs": [],
   "source": [
    "X = pad_sequences(maxlen=max_seq_length, sequences=X, padding='post', value=word2idx[\"ENDPAD\"])\n",
    "y = pad_sequences(maxlen=max_seq_length, sequences=y, padding='post', value=tag2idx[\"O\"])"
   ]
  },
  {
   "cell_type": "code",
   "execution_count": 51,
   "metadata": {},
   "outputs": [
    {
     "data": {
      "text/plain": [
       "(9775, 47)"
      ]
     },
     "execution_count": 51,
     "metadata": {},
     "output_type": "execute_result"
    }
   ],
   "source": [
    "X.shape"
   ]
  },
  {
   "cell_type": "code",
   "execution_count": 52,
   "metadata": {
    "scrolled": true
   },
   "outputs": [
    {
     "data": {
      "text/plain": [
       "(9775, 47)"
      ]
     },
     "execution_count": 52,
     "metadata": {},
     "output_type": "execute_result"
    }
   ],
   "source": [
    "y.shape"
   ]
  },
  {
   "cell_type": "code",
   "execution_count": 53,
   "metadata": {},
   "outputs": [
    {
     "data": {
      "text/plain": [
       "array([22, 22, 22, 18,  5, 22, 22, 22, 22, 22, 22, 22, 22, 22, 22, 22, 22,\n",
       "       22, 22, 22, 22, 22, 22, 22, 22, 22, 22, 22, 22, 22, 22, 22, 22, 22,\n",
       "       22, 22, 22, 22, 22, 22, 22, 22, 22, 22, 22, 22, 22])"
      ]
     },
     "execution_count": 53,
     "metadata": {},
     "output_type": "execute_result"
    }
   ],
   "source": [
    "y[0]"
   ]
  },
  {
   "cell_type": "code",
   "execution_count": 54,
   "metadata": {},
   "outputs": [],
   "source": [
    "# One-hot Encoding\n",
    "y = to_categorical(y, num_classes=len(tag2idx))"
   ]
  },
  {
   "cell_type": "code",
   "execution_count": 55,
   "metadata": {},
   "outputs": [
    {
     "data": {
      "text/plain": [
       "(9775, 47, 26)"
      ]
     },
     "execution_count": 55,
     "metadata": {},
     "output_type": "execute_result"
    }
   ],
   "source": [
    "y.shape"
   ]
  },
  {
   "cell_type": "code",
   "execution_count": 74,
   "metadata": {},
   "outputs": [],
   "source": [
    "# Early Stopping Callback\n",
    "callbacks = [EarlyStopping(monitor='val_loss', patience=2),\n",
    "             ModelCheckpoint(filepath='best_model_NER.h5', monitor='val_loss', save_best_only=True)]"
   ]
  },
  {
   "cell_type": "code",
   "execution_count": 75,
   "metadata": {},
   "outputs": [],
   "source": [
    "# Build Model\n",
    "from keras.models import Model\n",
    "from keras.layers import Dense, Dropout, Embedding, LSTM, Input\n",
    "\n",
    "input_node = Input(shape=(max_seq_length,))\n",
    "embedding = Embedding(input_dim=len(words), output_dim=100, input_length=max_seq_length)(input_node)\n",
    "rec_layer = Bidirectional(LSTM(50, return_sequences= True, recurrent_dropout=0.1))(embedding)\n",
    "output = TimeDistributed(Dense(len(tag2idx), activation=\"softmax\"))(rec_layer)\n",
    "\n",
    "NER = Model(input_node, output)"
   ]
  },
  {
   "cell_type": "code",
   "execution_count": 76,
   "metadata": {},
   "outputs": [],
   "source": [
    "NER.compile(optimizer=\"adam\", loss=\"categorical_crossentropy\", metrics=[\"accuracy\"])"
   ]
  },
  {
   "cell_type": "code",
   "execution_count": 77,
   "metadata": {},
   "outputs": [
    {
     "name": "stdout",
     "output_type": "stream",
     "text": [
      "Model: \"model_3\"\n",
      "_________________________________________________________________\n",
      "Layer (type)                 Output Shape              Param #   \n",
      "=================================================================\n",
      "input_3 (InputLayer)         (None, 47)                0         \n",
      "_________________________________________________________________\n",
      "embedding_3 (Embedding)      (None, 47, 100)           315100    \n",
      "_________________________________________________________________\n",
      "bidirectional_3 (Bidirection (None, 47, 100)           60400     \n",
      "_________________________________________________________________\n",
      "time_distributed_3 (TimeDist (None, 47, 26)            2626      \n",
      "=================================================================\n",
      "Total params: 378,126\n",
      "Trainable params: 378,126\n",
      "Non-trainable params: 0\n",
      "_________________________________________________________________\n"
     ]
    }
   ],
   "source": [
    "NER.summary()"
   ]
  },
  {
   "cell_type": "code",
   "execution_count": 78,
   "metadata": {},
   "outputs": [
    {
     "name": "stderr",
     "output_type": "stream",
     "text": [
      "C:\\Users\\dtecitak\\AppData\\Local\\Continuum\\anaconda3\\lib\\site-packages\\tensorflow_core\\python\\framework\\indexed_slices.py:424: UserWarning: Converting sparse IndexedSlices to a dense Tensor of unknown shape. This may consume a large amount of memory.\n",
      "  \"Converting sparse IndexedSlices to a dense Tensor of unknown shape. \"\n"
     ]
    },
    {
     "name": "stdout",
     "output_type": "stream",
     "text": [
      "Train on 1710 samples, validate on 733 samples\n",
      "Epoch 1/20\n",
      "1710/1710 [==============================] - 3s 2ms/step - loss: 1.1976 - accuracy: 0.8857 - val_loss: 0.4670 - val_accuracy: 0.9058\n",
      "Epoch 2/20\n",
      "1710/1710 [==============================] - 2s 1ms/step - loss: 0.3912 - accuracy: 0.9190 - val_loss: 0.4329 - val_accuracy: 0.9058\n",
      "Epoch 3/20\n",
      "1710/1710 [==============================] - 2s 1ms/step - loss: 0.3683 - accuracy: 0.9190 - val_loss: 0.4104 - val_accuracy: 0.9058\n",
      "Epoch 4/20\n",
      "1710/1710 [==============================] - 2s 1ms/step - loss: 0.3422 - accuracy: 0.9190 - val_loss: 0.3748 - val_accuracy: 0.9058\n",
      "Epoch 5/20\n",
      "1710/1710 [==============================] - 2s 1ms/step - loss: 0.3065 - accuracy: 0.9191 - val_loss: 0.3343 - val_accuracy: 0.9067\n",
      "Epoch 6/20\n",
      "1710/1710 [==============================] - 2s 1ms/step - loss: 0.2764 - accuracy: 0.9221 - val_loss: 0.3088 - val_accuracy: 0.9136\n",
      "Epoch 7/20\n",
      "1710/1710 [==============================] - 2s 1ms/step - loss: 0.2565 - accuracy: 0.9310 - val_loss: 0.2880 - val_accuracy: 0.9201\n",
      "Epoch 8/20\n",
      "1710/1710 [==============================] - 2s 1ms/step - loss: 0.2358 - accuracy: 0.9422 - val_loss: 0.2607 - val_accuracy: 0.9389\n",
      "Epoch 9/20\n",
      "1710/1710 [==============================] - 2s 1ms/step - loss: 0.2078 - accuracy: 0.9527 - val_loss: 0.2282 - val_accuracy: 0.9438\n",
      "Epoch 10/20\n",
      "1710/1710 [==============================] - 2s 1ms/step - loss: 0.1736 - accuracy: 0.9607 - val_loss: 0.1934 - val_accuracy: 0.9523\n",
      "Epoch 11/20\n",
      "1710/1710 [==============================] - 2s 1ms/step - loss: 0.1423 - accuracy: 0.9694 - val_loss: 0.1672 - val_accuracy: 0.9589\n",
      "Epoch 12/20\n",
      "1710/1710 [==============================] - 3s 2ms/step - loss: 0.1185 - accuracy: 0.9751 - val_loss: 0.1520 - val_accuracy: 0.9614\n",
      "Epoch 13/20\n",
      "1710/1710 [==============================] - 2s 1ms/step - loss: 0.1007 - accuracy: 0.9781 - val_loss: 0.1415 - val_accuracy: 0.9640\n",
      "Epoch 14/20\n",
      "1710/1710 [==============================] - 2s 1ms/step - loss: 0.0876 - accuracy: 0.9812 - val_loss: 0.1329 - val_accuracy: 0.9664\n",
      "Epoch 15/20\n",
      "1710/1710 [==============================] - 2s 1ms/step - loss: 0.0773 - accuracy: 0.9826 - val_loss: 0.1288 - val_accuracy: 0.9671\n",
      "Epoch 16/20\n",
      "1710/1710 [==============================] - 2s 1ms/step - loss: 0.0697 - accuracy: 0.9840 - val_loss: 0.1340 - val_accuracy: 0.9664\n",
      "Epoch 17/20\n",
      "1710/1710 [==============================] - 2s 1ms/step - loss: 0.0633 - accuracy: 0.9852 - val_loss: 0.1311 - val_accuracy: 0.9667\n"
     ]
    }
   ],
   "source": [
    "history = NER.fit(X, np.array(y), batch_size=32, epochs=20, validation_split=0.3,callbacks=callbacks, verbose=1)"
   ]
  },
  {
   "cell_type": "code",
   "execution_count": 79,
   "metadata": {},
   "outputs": [
    {
     "name": "stdout",
     "output_type": "stream",
     "text": [
      "dict_keys(['val_loss', 'val_accuracy', 'loss', 'accuracy'])\n"
     ]
    }
   ],
   "source": [
    "print(history.history.keys())"
   ]
  },
  {
   "cell_type": "code",
   "execution_count": 80,
   "metadata": {},
   "outputs": [
    {
     "data": {
      "image/png": "[encoded data removed]",
      "text/plain": [
       "<Figure size 432x288 with 1 Axes>"
      ]
     },
     "metadata": {
      "needs_background": "light"
     },
     "output_type": "display_data"
    }
   ],
   "source": [
    "# Plot history: Categorical CrossEntropy(CCE)\n",
    "plt.plot(history.history['loss'], label='CCE (training data)')\n",
    "plt.plot(history.history['val_loss'], label='CCE (validation data)')\n",
    "\n",
    "plt.title('CCE for NER')\n",
    "plt.ylabel('CCE value')\n",
    "plt.xlabel('No. epoch')\n",
    "plt.legend(loc=\"upper left\")\n",
    "\n",
    "plt.show()"
   ]
  },
  {
   "cell_type": "code",
   "execution_count": 81,
   "metadata": {},
   "outputs": [
    {
     "data": {
      "image/png": "[encoded data removed]",
      "text/plain": [
       "<Figure size 432x288 with 1 Axes>"
      ]
     },
     "metadata": {
      "needs_background": "light"
     },
     "output_type": "display_data"
    }
   ],
   "source": [
    "# Plot history: Accuracy(CCE)\n",
    "plt.plot(history.history['accuracy'], label='ACC (training data)')\n",
    "plt.plot(history.history['val_accuracy'], label='ACC (validation data)')\n",
    "\n",
    "plt.title('ACC for NER')\n",
    "plt.ylabel('ACC value')\n",
    "plt.xlabel('No. epoch')\n",
    "plt.legend(loc=\"upper left\")\n",
    "\n",
    "plt.show()"
   ]
  },
  {
   "cell_type": "code",
   "execution_count": 82,
   "metadata": {},
   "outputs": [
    {
     "name": "stdout",
     "output_type": "stream",
     "text": [
      "Shape of dataset: (2443, 2)\n",
      "Head of dataset:                                                    0  \\\n",
      "0  [are, there, any, good, romantic, comedies, ou...   \n",
      "1      [show, me, a, movie, about, cars, that, talk]   \n",
      "2  [list, the, five, star, rated, movies, starrin...   \n",
      "3  [what, science, fiction, films, have, come, ou...   \n",
      "4  [did, the, same, director, make, all, of, the,...   \n",
      "\n",
      "                                                   1  \n",
      "0  [O, O, O, O, B-GENRE, I-GENRE, O, B-YEAR, I-YEAR]  \n",
      "1            [O, O, O, O, O, B-PLOT, I-PLOT, I-PLOT]  \n",
      "2  [O, O, B-RATINGS_AVERAGE, I-RATINGS_AVERAGE, O...  \n",
      "3          [O, B-GENRE, I-GENRE, O, O, O, O, B-YEAR]  \n",
      "4      [O, O, O, O, O, O, O, O, B-TITLE, I-TITLE, O]  \n",
      "Sample element words: ['is', 'there', 'an', 'r', 'rated', 'fantasy', 'directed', 'by', 'robert', 'taylor', 'that', 'is', 'liked', 'by', 'many']\n",
      "Sample element tags: ['O', 'O', 'O', 'B-RATING', 'O', 'B-GENRE', 'O', 'O', 'B-DIRECTOR', 'I-DIRECTOR', 'O', 'O', 'B-RATINGS_AVERAGE', 'I-RATINGS_AVERAGE', 'I-RATINGS_AVERAGE']\n"
     ]
    }
   ],
   "source": [
    "test_set = read_preprocess_dataset(\"test.txt\")"
   ]
  },
  {
   "cell_type": "code",
   "execution_count": 83,
   "metadata": {},
   "outputs": [],
   "source": [
    "words, tags = get_unique_words(test_set)"
   ]
  },
  {
   "cell_type": "code",
   "execution_count": 84,
   "metadata": {},
   "outputs": [],
   "source": [
    "word2idx, tag2idx, X,y = convert_str_to_numerical(test_set, words,tags)"
   ]
  },
  {
   "cell_type": "code",
   "execution_count": 86,
   "metadata": {},
   "outputs": [],
   "source": [
    "#max_seq_lengthx_sequence_length  is same also for test set, since lstm is trained with it previously"
   ]
  },
  {
   "cell_type": "code",
   "execution_count": 87,
   "metadata": {},
   "outputs": [],
   "source": [
    "X = pad_sequences(maxlen=max_seq_length, sequences=X, padding='post', value=word2idx[\"ENDPAD\"])\n",
    "y = pad_sequences(maxlen=max_seq_length, sequences=y, padding='post', value=tag2idx[\"O\"])"
   ]
  },
  {
   "cell_type": "code",
   "execution_count": 88,
   "metadata": {},
   "outputs": [],
   "source": [
    "# One-hot Encoding\n",
    "y = to_categorical(y, num_classes=len(tag2idx))"
   ]
  },
  {
   "cell_type": "code",
   "execution_count": 90,
   "metadata": {},
   "outputs": [
    {
     "name": "stderr",
     "output_type": "stream",
     "text": [
      "C:\\Users\\dtecitak\\AppData\\Local\\Continuum\\anaconda3\\lib\\site-packages\\tensorflow_core\\python\\framework\\indexed_slices.py:424: UserWarning: Converting sparse IndexedSlices to a dense Tensor of unknown shape. This may consume a large amount of memory.\n",
      "  \"Converting sparse IndexedSlices to a dense Tensor of unknown shape. \"\n"
     ]
    }
   ],
   "source": [
    "# Load Best Model\n",
    "best_model = load_model(\"best_model_NER.h5\")"
   ]
  },
  {
   "cell_type": "code",
   "execution_count": 92,
   "metadata": {},
   "outputs": [
    {
     "name": "stdout",
     "output_type": "stream",
     "text": [
      "2443/2443 [==============================] - 1s 471us/step\n"
     ]
    }
   ],
   "source": [
    "score, acc = best_model.evaluate(X,y)"
   ]
  },
  {
   "cell_type": "code",
   "execution_count": 93,
   "metadata": {},
   "outputs": [
    {
     "name": "stdout",
     "output_type": "stream",
     "text": [
      "Test Set Acc: 0.979585587978363\n"
     ]
    }
   ],
   "source": [
    "print(\"Test Set Acc:\",acc)"
   ]
  }
 ],
 "metadata": {
  "kernelspec": {
   "display_name": "Python 3",
   "language": "python",
   "name": "python3"
  },
  "language_info": {
   "codemirror_mode": {
    "name": "ipython",
    "version": 3
   },
   "file_extension": ".py",
   "mimetype": "text/x-python",
   "name": "python",
   "nbconvert_exporter": "python",
   "pygments_lexer": "ipython3",
   "version": "3.7.3"
  }
 },
 "nbformat": 4,
 "nbformat_minor": 2
}
